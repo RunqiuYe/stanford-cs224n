{
 "cells": [
  {
   "cell_type": "code",
   "execution_count": 1,
   "metadata": {},
   "outputs": [],
   "source": [
    "import numpy as np\n",
    "from sklearn.decomposition import TruncatedSVD\n",
    "\n",
    "# Example matrix\n",
    "X = np.array([[1, 2, 3],\n",
    "              [4, 5, 6],\n",
    "              [7, 8, 9],\n",
    "              [10, 11, 12]])\n"
   ]
  },
  {
   "cell_type": "code",
   "execution_count": 2,
   "metadata": {},
   "outputs": [],
   "source": [
    "# Number of components (singular values) to keep\n",
    "n_components = 2\n",
    "\n",
    "# Create a TruncatedSVD instance\n",
    "svd = TruncatedSVD(n_components=n_components)\n",
    "\n",
    "# Fit and transform the data\n",
    "X_svd = svd.fit_transform(X)\n"
   ]
  },
  {
   "cell_type": "code",
   "execution_count": 3,
   "metadata": {},
   "outputs": [
    {
     "name": "stdout",
     "output_type": "stream",
     "text": [
      "Singular values: [25.46240744  1.29066168]\n",
      "Transformed data:\n",
      " [[ 3.58705934  1.06442721]\n",
      " [ 8.75770068  0.55016253]\n",
      " [13.92834202  0.03589786]\n",
      " [19.09898335 -0.47836682]]\n",
      "Explained variance ratio: [0.99020488 0.00979512]\n"
     ]
    }
   ],
   "source": [
    "# Singular values\n",
    "print(\"Singular values:\", svd.singular_values_)\n",
    "\n",
    "# Transformed data\n",
    "print(\"Transformed data:\\n\", X_svd)\n",
    "\n",
    "# Explained variance\n",
    "print(\"Explained variance ratio:\", svd.explained_variance_ratio_)\n"
   ]
  },
  {
   "cell_type": "code",
   "execution_count": null,
   "metadata": {},
   "outputs": [],
   "source": []
  }
 ],
 "metadata": {
  "kernelspec": {
   "display_name": "cs224n",
   "language": "python",
   "name": "cs224n"
  },
  "language_info": {
   "codemirror_mode": {
    "name": "ipython",
    "version": 3
   },
   "file_extension": ".py",
   "mimetype": "text/x-python",
   "name": "python",
   "nbconvert_exporter": "python",
   "pygments_lexer": "ipython3",
   "version": "3.11.9"
  }
 },
 "nbformat": 4,
 "nbformat_minor": 2
}
